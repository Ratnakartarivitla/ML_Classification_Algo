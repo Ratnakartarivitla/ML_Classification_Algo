{
 "cells": [
  {
   "cell_type": "code",
   "execution_count": 3,
   "id": "1928f851",
   "metadata": {},
   "outputs": [],
   "source": [
    "import pandas as pd\n",
    "import numpy as np\n",
    "from sklearn.svm import SVC\n",
    "from sklearn.datasets import load_iris"
   ]
  },
  {
   "cell_type": "code",
   "execution_count": 4,
   "id": "437a70f2",
   "metadata": {},
   "outputs": [],
   "source": [
    "data = load_iris()"
   ]
  },
  {
   "cell_type": "code",
   "execution_count": 6,
   "id": "94df6d93",
   "metadata": {},
   "outputs": [],
   "source": [
    "features = data['data']\n",
    "labels = data['target']"
   ]
  },
  {
   "cell_type": "code",
   "execution_count": 9,
   "id": "61c444f9",
   "metadata": {},
   "outputs": [
    {
     "data": {
      "text/plain": [
       "((150, 4), (150,))"
      ]
     },
     "execution_count": 9,
     "metadata": {},
     "output_type": "execute_result"
    }
   ],
   "source": [
    "features.shape, labels.shape"
   ]
  },
  {
   "cell_type": "code",
   "execution_count": 10,
   "id": "42de7a20",
   "metadata": {},
   "outputs": [],
   "source": [
    "from sklearn.model_selection import train_test_split "
   ]
  },
  {
   "cell_type": "code",
   "execution_count": 12,
   "id": "be38e8f2",
   "metadata": {},
   "outputs": [],
   "source": [
    "X_train, X_test, y_train, y_test = train_test_split(features, labels)"
   ]
  },
  {
   "cell_type": "code",
   "execution_count": 13,
   "id": "ce53e0c4",
   "metadata": {},
   "outputs": [
    {
     "data": {
      "text/plain": [
       "((112, 4), (38, 4), (112,), (38,))"
      ]
     },
     "execution_count": 13,
     "metadata": {},
     "output_type": "execute_result"
    }
   ],
   "source": [
    "X_train.shape, X_test.shape, y_train.shape, y_test.shape"
   ]
  },
  {
   "cell_type": "code",
   "execution_count": 15,
   "id": "c91fc234",
   "metadata": {},
   "outputs": [],
   "source": [
    "svc = SVC().fit(X_train, y_train)"
   ]
  },
  {
   "cell_type": "code",
   "execution_count": 19,
   "id": "05edae6d",
   "metadata": {},
   "outputs": [],
   "source": [
    "pred = svc.predict(X_test)"
   ]
  },
  {
   "cell_type": "code",
   "execution_count": 20,
   "id": "cb3eaa83",
   "metadata": {},
   "outputs": [],
   "source": [
    "from sklearn.metrics import classification_report"
   ]
  },
  {
   "cell_type": "code",
   "execution_count": 21,
   "id": "dc8d6374",
   "metadata": {},
   "outputs": [
    {
     "name": "stdout",
     "output_type": "stream",
     "text": [
      "              precision    recall  f1-score   support\n",
      "\n",
      "           0       1.00      1.00      1.00         8\n",
      "           1       0.80      1.00      0.89        12\n",
      "           2       1.00      0.83      0.91        18\n",
      "\n",
      "    accuracy                           0.92        38\n",
      "   macro avg       0.93      0.94      0.93        38\n",
      "weighted avg       0.94      0.92      0.92        38\n",
      "\n"
     ]
    }
   ],
   "source": [
    "print(classification_report(y_test, pred)) #Testing"
   ]
  },
  {
   "cell_type": "code",
   "execution_count": 22,
   "id": "bdbc2da5",
   "metadata": {},
   "outputs": [
    {
     "name": "stdout",
     "output_type": "stream",
     "text": [
      "              precision    recall  f1-score   support\n",
      "\n",
      "           0       1.00      1.00      1.00        42\n",
      "           1       0.95      0.97      0.96        38\n",
      "           2       0.97      0.94      0.95        32\n",
      "\n",
      "    accuracy                           0.97       112\n",
      "   macro avg       0.97      0.97      0.97       112\n",
      "weighted avg       0.97      0.97      0.97       112\n",
      "\n"
     ]
    }
   ],
   "source": [
    "print(classification_report(y_train, svc.predict(X_train))) #Training"
   ]
  },
  {
   "cell_type": "code",
   "execution_count": null,
   "id": "52c9713c",
   "metadata": {},
   "outputs": [],
   "source": [
    "# TASK: YOU NEED TO WORK ON THE KNN CLASSIFIER ALGORITHM USING SCIKIT LEARN LIBRARY"
   ]
  }
 ],
 "metadata": {
  "kernelspec": {
   "display_name": "Python 3",
   "language": "python",
   "name": "python3"
  },
  "language_info": {
   "codemirror_mode": {
    "name": "ipython",
    "version": 3
   },
   "file_extension": ".py",
   "mimetype": "text/x-python",
   "name": "python",
   "nbconvert_exporter": "python",
   "pygments_lexer": "ipython3",
   "version": "3.7.10"
  }
 },
 "nbformat": 4,
 "nbformat_minor": 5
}
